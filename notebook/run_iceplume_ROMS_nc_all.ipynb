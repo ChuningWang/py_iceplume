{
 "cells": [
  {
   "cell_type": "markdown",
   "metadata": {},
   "source": [
    "### Use standalone verison of ICEPLUME to calculate subglacial discharge from rom"
   ]
  },
  {
   "cell_type": "code",
   "execution_count": 1,
   "metadata": {},
   "outputs": [
    {
     "name": "stdout",
     "output_type": "stream",
     "text": [
      "scrip.so not found. Remapping function will not be available\n"
     ]
    }
   ],
   "source": [
    "%matplotlib inline\n",
    "\n",
    "# import modules\n",
    "from datetime import datetime, timedelta\n",
    "import subprocess\n",
    "import glob\n",
    "import pickle\n",
    "\n",
    "import numpy as np\n",
    "import matplotlib.pyplot as plt\n",
    "import netCDF4 as nc\n",
    "\n",
    "import pyroms\n",
    "from cmocean import cm\n",
    "\n",
    "plt.rcParams['figure.figsize'] = [18, 16]\n",
    "plt.rcParams['font.size'] = 20"
   ]
  },
  {
   "cell_type": "code",
   "execution_count": 2,
   "metadata": {},
   "outputs": [],
   "source": [
    "# -------------- functionals --------------------------------\n",
    "def get_zr(zeta, h, vgrid):\n",
    "    \"\"\" get z at rho points from grid and zeta info. \"\"\"\n",
    "\n",
    "    ti = zeta.shape[0]\n",
    "    zr = np.empty((ti, vgrid.N) + h.shape, 'd')\n",
    "    if vgrid.Vtrans == 1:\n",
    "        for n in range(ti):\n",
    "            for k in range(vgrid.N):\n",
    "                z0 = vgrid.hc * vgrid.s_rho[k] + (h - vgrid.hc) * vgrid.Cs_r[k]\n",
    "                zr[n, k, :] = z0 + zeta[n, :] * (1.0 + z0 / h)\n",
    "    elif vgrid.Vtrans == 2 or vgrid.Vtrans == 4 or vgrid.Vtrans == 5:\n",
    "        for n in range(ti):\n",
    "            for k in range(vgrid.N):\n",
    "                z0 = (vgrid.hc * vgrid.s_rho[k] + h * vgrid.Cs_r[k]) / (vgrid.hc + h)\n",
    "                zr[n, k, :] = zeta[n, :] + (zeta[n, :] + h) * z0\n",
    "\n",
    "    return zr\n",
    "\n",
    "\n",
    "def get_zw(zeta, h, vgrid):\n",
    "    \"\"\" get z at rho points from grid and zeta info. \"\"\"\n",
    "\n",
    "    ti = zeta.shape[0]\n",
    "    zw = np.empty((ti, vgrid.Np) + h.shape, 'd')\n",
    "    if vgrid.Vtrans == 1:\n",
    "        for n in range(ti):\n",
    "            for k in range(vgrid.Np):\n",
    "                z0 = vgrid.hc * vgrid.s_w[k] + (h - vgrid.hc) * vgrid.Cs_w[k]\n",
    "                zw[n, k, :] = z0 + zeta[n, :] * (1.0 + z0 / h)\n",
    "    elif vgrid.Vtrans == 2 or vgrid.Vtrans == 4 or vgrid.Vtrans == 5:\n",
    "        for n in range(ti):\n",
    "            for k in range(vgrid.Np):\n",
    "                z0 = (vgrid.hc * vgrid.s_w[k] + h * vgrid.Cs_w[k]) / (vgrid.hc + h)\n",
    "                zw[n, k, :] = zeta[n, :] + (zeta[n, :] + h) * z0\n",
    "\n",
    "    return zw"
   ]
  },
  {
   "cell_type": "code",
   "execution_count": 3,
   "metadata": {},
   "outputs": [
    {
     "data": {
      "text/plain": [
       "0"
      ]
     },
     "execution_count": 3,
     "metadata": {},
     "output_type": "execute_result"
    }
   ],
   "source": [
    "# ------------ build the executable ------------------------------------\n",
    "subprocess.call('cd ..; ./build.bash', shell=True)"
   ]
  },
  {
   "cell_type": "code",
   "execution_count": 7,
   "metadata": {},
   "outputs": [
    {
     "name": "stdout",
     "output_type": "stream",
     "text": [
      "['_w02000_s050_r0150_m2amp0.00_s2amp0.00_dth050_dthp0.025', '_w02000_s100_r0150_m2amp0.00_s2amp0.00_dth050_dthp0.025', '_w02000_s200_r0150_m2amp0.00_s2amp0.00_dth050_dthp0.025', '_w02000_s400_r0150_m2amp0.00_s2amp0.00_dth050_dthp0.025', '_w02000_s800_r0150_m2amp0.00_s2amp0.00_dth050_dthp0.025']\n"
     ]
    }
   ],
   "source": [
    "# ------------ parameters -----------------------------------------------\n",
    "runoff_list = [0, 5, 50, 100, 150, 250]\n",
    "Ds_list = [50, 100, 200, 400, 800]\n",
    "m2amp_list = [0, 1, 2 ,4, 6]\n",
    "\n",
    "W = 2000.\n",
    "Ds = 200.\n",
    "m2amp = 0.00\n",
    "s2amp = 0.00\n",
    "dth = 50.\n",
    "dthp = 0.025\n",
    "runoff = 150.\n",
    "runoff_sratio = 0\n",
    "\n",
    "dx0 = 200\n",
    "dy0 = 200\n",
    "\n",
    "y1 = 131\n",
    "y2 = 141\n",
    "\n",
    "apd_list = []\n",
    "\n",
    "if runoff_sratio == 0:\n",
    "    apd_list.append('_w%05d_s%03d_r%04d_m2amp%4.2f_s2amp%4.2f_dth%03d_dthp%5.3f' \\\n",
    "                    % (W, Ds, runoff, m2amp, s2amp, dth, dthp))\n",
    "else:\n",
    "    apd_list.append('_w%05d_s%03d_r%04d_rr%4.2f_m2amp%4.2f_s2amp%4.2f_dth%03d_dthp%5.3f' \\\n",
    "                    % (W, Ds, runoff, runoff_sratio, m2amp, s2amp, dth, dthp))\n",
    "\n",
    "apd_list = []\n",
    "\n",
    "# for runoff in runoff_list:\n",
    "for Ds in Ds_list:\n",
    "# for m2amp in m2amp_list:\n",
    "    if runoff_sratio == 0:\n",
    "        apd_list.append('_w%05d_s%03d_r%04d_m2amp%4.2f_s2amp%4.2f_dth%03d_dthp%5.3f' \\\n",
    "                        % (W, Ds, runoff, m2amp, s2amp, dth, dthp))\n",
    "    else:\n",
    "        apd_list.append('_w%05d_s%03d_r%04d_rr%4.2f_m2amp%4.2f_s2amp%4.2f_dth%03d_dthp%5.3f' \\\n",
    "                        % (W, Ds, runoff, runoff_sratio, m2amp, s2amp, dth, dthp))\n",
    "\n",
    "# case_list = glob.glob('/glade/scratch/chuning/tmpdir_tidal_fjord/outputs_w*')\n",
    "# apd_list = []\n",
    "# for casei in case_list:\n",
    "#     apd_list.append(casei.split('outputs')[-1])\n",
    "    \n",
    "# apd_list = ['_cd']\n",
    "\n",
    "print(apd_list)"
   ]
  },
  {
   "cell_type": "code",
   "execution_count": 8,
   "metadata": {},
   "outputs": [],
   "source": [
    "runoff_list = []\n",
    "for apd in apd_list:\n",
    "    if apd == '_cd':\n",
    "        runoff_list.append(150)\n",
    "    else:\n",
    "        runoff_i = float(apd.split('_r0')[-1][:3])\n",
    "        if len(apd.split('_rr'))>1:\n",
    "            rr_i = float(apd.split('_rr')[-1][:3])\n",
    "            runoff_i = runoff_i*(1-rr_i)\n",
    "        runoff_list.append(runoff_i)"
   ]
  },
  {
   "cell_type": "code",
   "execution_count": 9,
   "metadata": {},
   "outputs": [],
   "source": [
    "fname_list = []\n",
    "grid_file_list = []\n",
    "hist_file_list = []\n",
    "fname_out_list = []\n",
    "\n",
    "for apd in apd_list:\n",
    "    fname_list.append('/glade/work/chuning/tidal_fjord/data/glacier/tidal_fjord_glacier' + apd + '.nc')\n",
    "    grid_file_list.append('/glade/u/home/chuning/tidal_fjord/tidal_fjord_grid' + apd + '.nc')\n",
    "    hist_file_list.append('/glade/scratch/chuning/tmpdir_tidal_fjord/outputs' + \\\n",
    "                          apd + '/outputs/1900/tidal_fjord' + \\\n",
    "                          apd + '_his_1900-01-01T00:00:00.nc')\n",
    "    fname_out_list.append('/glade/work/chuning/tidal_fjord/data/iceplume/tidal_fjord_iceplume' + \\\n",
    "                          apd + '.pickle')"
   ]
  },
  {
   "cell_type": "code",
   "execution_count": 10,
   "metadata": {},
   "outputs": [
    {
     "name": "stdout",
     "output_type": "stream",
     "text": [
      "Load cartesian grid from file\n",
      "Run the module\n",
      "Load cartesian grid from file\n",
      "Run the module\n",
      "Load cartesian grid from file\n",
      "Run the module\n",
      "Load cartesian grid from file\n",
      "Run the module\n",
      "Load cartesian grid from file\n",
      "Run the module\n"
     ]
    }
   ],
   "source": [
    "for ci in range(len(apd_list)):\n",
    "    runoff = runoff_list[ci]\n",
    "    apd = apd_list[ci]\n",
    "    fname = fname_list[ci]\n",
    "    grid_file = grid_file_list[ci]\n",
    "    hist_file = hist_file_list[ci]\n",
    "    fname_out = fname_out_list[ci]\n",
    "    \n",
    "    # load grid\n",
    "    grd = pyroms.grid.get_ROMS_grid(apd, hist_file=hist_file, grid_file=grid_file)\n",
    "    N = grd.vgrid.N\n",
    "    h = grd.vgrid.h[y1:y2, 2:3]\n",
    "\n",
    "    # load data\n",
    "    fin = nc.Dataset(fname, 'r')\n",
    "    time = fin.variables['ocean_time'][:]\n",
    "    zeta = fin.variables['zeta'][:]\n",
    "    salt = fin.variables['salt'][:]\n",
    "    temp = fin.variables['temp'][:]\n",
    "    dye01 = fin.variables['dye_01'][:]\n",
    "    v_raw = fin.variables['v'][:]\n",
    "    w = 0.5*(fin.variables['w'][:, 1:] +\n",
    "             fin.variables['w'][:, :-1])\n",
    "    fin.close()\n",
    "\n",
    "    v_raw[v_raw.mask] = 0\n",
    "    v = 0.5*(v_raw[:, :, 1:] + v_raw[:, :, :-1])\n",
    "    \n",
    "    tN = len(time)\n",
    "\n",
    "    zw = get_zw(zeta, h, grd.vgrid)\n",
    "    zr = get_zr(zeta, h, grd.vgrid)\n",
    "\n",
    "    # ------------ initiate variables --------------------------------------\n",
    "    f = open('../outputs/plume_out_zr.txt', 'rb')\n",
    "    header_zr = f.readline().split()\n",
    "    f.close()\n",
    "    f = open('../outputs/plume_out_zw.txt', 'rb')\n",
    "    header_zw = f.readline().split()\n",
    "    f.close()\n",
    "\n",
    "    for i in range(len(header_zr)):\n",
    "        header_zr[i] = header_zr[i].decode('utf-8')\n",
    "    for i in range(len(header_zw)):\n",
    "        header_zw[i] = header_zw[i].decode('utf-8')\n",
    "\n",
    "    data = {}\n",
    "    data['time'] = time\n",
    "    data['zeta'] = zeta.squeeze()\n",
    "    for (i, header) in enumerate(header_zr):\n",
    "        data[header] = np.zeros((tN, N, y2-y1))\n",
    "    for (i, header) in enumerate(header_zw):\n",
    "        data[header] = np.zeros((tN, N+1, y2-y1))\n",
    "\n",
    "    print('Run the module')\n",
    "    \n",
    "    for ti in range(tN):\n",
    "        for yi in range(y2-y1):\n",
    "            np.savetxt('../data/iceplume_zw.txt', zw[ti, :, yi, 0])\n",
    "            np.savetxt('../data/iceplume_t.txt', temp[ti, :, yi, 0])\n",
    "            np.savetxt('../data/iceplume_s.txt', salt[ti, :, yi, 0])\n",
    "            np.savetxt('../data/iceplume_dye01.txt', dye01[ti, :, yi, 0])\n",
    "            np.savetxt('../data/iceplume_v.txt', v[ti, :, yi, 0])\n",
    "            np.savetxt('../data/iceplume_w.txt', w[ti, :, yi, 0])\n",
    "\n",
    "            if yi == 5:\n",
    "                np.savetxt('../data/iceplume_qini.txt', np.array([runoff]))\n",
    "            else:\n",
    "                np.savetxt('../data/iceplume_qini.txt', np.array([0.0]))\n",
    "\n",
    "            # ------------ run the executable --------------------------------------\n",
    "            subprocess.call('cd ..; ./iceplume_test.exe', shell=True)\n",
    "\n",
    "            # ------------ load results from txt files -----------------------------\n",
    "            data_zr = np.loadtxt('../outputs/plume_out_zr.txt', skiprows=1)\n",
    "            data_zw = np.loadtxt('../outputs/plume_out_zw.txt', skiprows=1)\n",
    "\n",
    "            for (i, header) in enumerate(header_zr):\n",
    "                if str(header) != 'lev':\n",
    "                    data[header][ti, :, yi] = data_zr[:, i]\n",
    "            for (i, header) in enumerate(header_zw):\n",
    "                data[header][ti, :, yi] = data_zw[:, i]\n",
    "\n",
    "    # save outputs to pickle\n",
    "    fh = open(fname_out, 'wb')\n",
    "    pickle.dump(data, fh)\n",
    "    fh.close()"
   ]
  },
  {
   "cell_type": "code",
   "execution_count": null,
   "metadata": {},
   "outputs": [],
   "source": []
  }
 ],
 "metadata": {
  "kernelspec": {
   "display_name": "Python 3",
   "language": "python",
   "name": "python3"
  },
  "language_info": {
   "codemirror_mode": {
    "name": "ipython",
    "version": 3
   },
   "file_extension": ".py",
   "mimetype": "text/x-python",
   "name": "python",
   "nbconvert_exporter": "python",
   "pygments_lexer": "ipython3",
   "version": "3.6.4"
  }
 },
 "nbformat": 4,
 "nbformat_minor": 2
}
